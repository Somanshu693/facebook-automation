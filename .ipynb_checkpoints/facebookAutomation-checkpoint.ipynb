{
 "cells": [
  {
   "cell_type": "markdown",
   "metadata": {},
   "source": [
    "<center> <h1>Wishing Happy Birthday to our Facebook Friends : </h1></center>\n",
    "<img src=\"./imgs/birthday.gif\" width=\"300\">\n",
    "\n",
    "<left> <h3>Author: Somanshu Gupta </h3> <left>\n",
    "<left> <h5>(Automation Script Enthusiast) </h5> <left>\n",
    "<left> <h3>Contact: work.somanshu@gmail.com </h3> <left>"
   ]
  },
  {
   "cell_type": "code",
   "execution_count": 41,
   "metadata": {},
   "outputs": [],
   "source": [
    "from selenium import webdriver\n",
    "from selenium.webdriver.common.keys import Keys\n",
    "from selenium.webdriver.chrome.options import Options\n",
    "import getpass\n",
    "import time"
   ]
  },
  {
   "cell_type": "code",
   "execution_count": null,
   "metadata": {},
   "outputs": [],
   "source": [
    "# Disable the browser notification popup and opening new browser in maximized window\n",
    "option1 = Options()\n",
    "option1.add_argument(\"--disable-notifications\")\n",
    "driver = webdriver.Chrome('./chromedriver.exe',options=option1)\n",
    "driver.set_window_size(1024, 600)\n",
    "driver.maximize_window()\n",
    "\n",
    "# Getting the url\n",
    "driver.get('https://www.facebook.com')\n",
    "\n",
    "#Getting email and password text box\n",
    "usernameBox = driver.find_element_by_id(\"email\")\n",
    "passwordBox = driver.find_element_by_id(\"pass\")\n",
    "my_id = getpass.getpass()\n",
    "my_pass = getpass.getpass()\n",
    "\n",
    "#Writing email and password\n",
    "usernameBox.send_keys(my_id)\n",
    "passwordBox.send_keys(my_pass)\n",
    "time.sleep(2)\n",
    "\n",
    "#Getting login button and clicking on login\n",
    "loginBox = driver.find_element_by_xpath('/html/body/div[1]/div[2]/div[1]/div/div/div/div[2]/div/div[1]/form/div[2]/button')\n",
    "loginBox.click()"
   ]
  },
  {
   "cell_type": "code",
   "execution_count": 36,
   "metadata": {},
   "outputs": [],
   "source": [
    "#Getting Events page\n",
    "eventPage = driver.find_element_by_xpath('/html/body/div[1]/div/div[1]/div/div[3]/div/div/div[1]/div[1]/div/div[1]/div/div/div[1]/div/div/div[1]/div[1]/ul/li[2]/div/a/div[1]/div[2]/div/div/div/div/span/span')\n",
    "eventPage.click()\n",
    "time.sleep(10)"
   ]
  },
  {
   "cell_type": "code",
   "execution_count": 37,
   "metadata": {},
   "outputs": [],
   "source": [
    "#Clicking on Birthdays\n",
    "birthdays = driver.find_element_by_xpath('/html/body/div[1]/div/div[1]/div/div[3]/div/div/div[1]/div[1]/div[1]/div/div[3]/div[1]/div[2]/div[3]/a/div[1]/div[2]/div/div/div/div/span')\n",
    "birthdays.click()"
   ]
  },
  {
   "cell_type": "code",
   "execution_count": 38,
   "metadata": {},
   "outputs": [],
   "source": [
    "#Getting all birthdays\n",
    "friends = driver.find_element_by_xpath('/html/body/div[1]/div/div[1]/div/div[3]/div/div/div[1]/div[1]/div[2]/div/div/div/div/div[1]/div/div/div/div[2]')\n",
    "all_friends = friends.find_elements_by_tag_name('form')"
   ]
  },
  {
   "cell_type": "code",
   "execution_count": 39,
   "metadata": {},
   "outputs": [],
   "source": [
    "#Writing Birthday Wishes\n",
    "for my_friends in list(all_friends):\n",
    "    messageBox = my_friends.find_element_by_class_name('_1mf')\n",
    "    messageBox.send_keys(\"Happy Birthday! \\u2764 Have a blast!!\")\n",
    "    time.sleep(5)\n",
    "    messageBox.send_keys(Keys.RETURN)\n",
    "    time.sleep(3)"
   ]
  },
  {
   "cell_type": "code",
   "execution_count": 40,
   "metadata": {},
   "outputs": [],
   "source": [
    "#Quiting Browser\n",
    "time.sleep(2)\n",
    "driver.quit()"
   ]
  },
  {
   "cell_type": "code",
   "execution_count": null,
   "metadata": {},
   "outputs": [],
   "source": []
  }
 ],
 "metadata": {
  "kernelspec": {
   "display_name": "Python 3",
   "language": "python",
   "name": "python3"
  },
  "language_info": {
   "codemirror_mode": {
    "name": "ipython",
    "version": 3
   },
   "file_extension": ".py",
   "mimetype": "text/x-python",
   "name": "python",
   "nbconvert_exporter": "python",
   "pygments_lexer": "ipython3",
   "version": "3.7.3"
  }
 },
 "nbformat": 4,
 "nbformat_minor": 2
}
